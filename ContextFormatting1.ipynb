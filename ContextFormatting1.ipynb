{
 "cells": [
  {
   "cell_type": "markdown",
   "metadata": {},
   "source": [
    "The current file has a thread of up to 12 contexts leading up to the tweet( labeled 'response'). Currently, context/0 is the beginning of the thread, context/1 is the second tweet of the thread, so on and so forth. \n",
    "\n",
    "<br>\n",
    "\n",
    "The formatting in this notebook will allow us to take the **last** two tweets from the thread, the ones that immediately precede the response. Context/1 will now be the context that starts the thread, Context/0 will be the one that comes next, and finally the response. We will remove all other contexts. "
   ]
  },
  {
   "cell_type": "code",
   "execution_count": 22,
   "metadata": {},
   "outputs": [],
   "source": [
    "import pandas as pd\n",
    
   ]
  },
  {
   "cell_type": "code",
   "execution_count": 27,
   "metadata": {},
   "outputs": [],
   "source": [
    "filenames = [\"Original_Reddit_Training.csv\",\n",
    "             \"reddit_test_label.csv\",\n",
    "             \"twitter_test_label.csv\",\n",
    "             \"twitter_training.csv\"]"
   ]
  },
  {
   "cell_type": "code",
   "execution_count": 28,
   "metadata": {},
   "outputs": [],
   "source": [
    "def formatted_data(file):\n",
    "    data = pd.read_csv(file)\n",
    "    new_data = data[['label','response']].copy()      #keep a separate DataFrame with label & response (append later)\n",
    "    new_data['context/0'],new_data['context/1'] = '',''\n",
    "    if 'id' in data.columns:\n",
    "        data = data.drop(['id'],axis =1)\n",
    "    data = data.drop(['label','response'], axis =1)   #id is only available for test set\n",
    "    data = data[data.columns[::-1]]   #reverse order of columns so that the most recent tweets are first\n",
    "    data.fillna(0,inplace = True)             # fill all \"NaN\" columns with 0's\n",
    "    \n",
    "    tweet_range = len(data)\n",
    "    context_range = len(data.columns)\n",
    "    \n",
    "    for tweet in range(tweet_range):                  #iterate over every row  \n",
    "        stored_contexts = []                   #store the context for each row in this list\n",
    "        for context in range(context_range):              #iterate over every column \n",
    "            current_context = data.iloc[tweet,context]    #locate row,column\n",
    "            if current_context != 0:                       #if the context is not '0', save it in the list\n",
    "                stored_contexts.append(current_context)\n",
    "        new_data.loc[tweet,'context/0':] = stored_contexts[:2]    #only take the first two contexts from your list\n",
    "    return(new_data)\n",
    "    \n",
    "# new_data = formatted_data(data)"
   ]
  },
  {
   "cell_type": "code",
   "execution_count": 29,
   "metadata": {},
   "outputs": [],
   "source": [
    "for file in filenames:\n",
    "    new_data = formatted_data(file)\n",
    "    new_data.to_csv('formatted_'+file)\n",
    "    "
   ]
  },
  {
   "cell_type": "code",
   "execution_count": 30,
   "metadata": {},
   "outputs": [
    {
     "data": {
      "text/html": [
       "<div>\n",
       "<style scoped>\n",
       "    .dataframe tbody tr th:only-of-type {\n",
       "        vertical-align: middle;\n",
       "    }\n",
       "\n",
       "    .dataframe tbody tr th {\n",
       "        vertical-align: top;\n",
       "    }\n",
       "\n",
       "    .dataframe thead th {\n",
       "        text-align: right;\n",
       "    }\n",
       "</style>\n",
       "<table border=\"1\" class=\"dataframe\">\n",
       "  <thead>\n",
       "    <tr style=\"text-align: right;\">\n",
       "      <th></th>\n",
       "      <th>label</th>\n",
       "      <th>response</th>\n",
       "      <th>context/0</th>\n",
       "      <th>context/1</th>\n",
       "    </tr>\n",
       "  </thead>\n",
       "  <tbody>\n",
       "    <tr>\n",
       "      <th>0</th>\n",
       "      <td>SARCASM</td>\n",
       "      <td>@USER @USER @USER I don't get this .. obviousl...</td>\n",
       "      <td>@USER If your child isn't named Barron ... #Be...</td>\n",
       "      <td>A minor child deserves privacy and should be k...</td>\n",
       "    </tr>\n",
       "    <tr>\n",
       "      <th>1</th>\n",
       "      <td>SARCASM</td>\n",
       "      <td>@USER @USER trying to protest about . Talking ...</td>\n",
       "      <td>@USER @USER having to make up excuses of why y...</td>\n",
       "      <td>@USER @USER Why is he a loser ? He's just a Pr...</td>\n",
       "    </tr>\n",
       "    <tr>\n",
       "      <th>2</th>\n",
       "      <td>SARCASM</td>\n",
       "      <td>@USER @USER @USER He makes an insane about of ...</td>\n",
       "      <td>@USER I ’ ll remember to not support you at th...</td>\n",
       "      <td>Donald J . Trump is guilty as charged . The ev...</td>\n",
       "    </tr>\n",
       "    <tr>\n",
       "      <th>3</th>\n",
       "      <td>SARCASM</td>\n",
       "      <td>@USER @USER Meanwhile Trump won't even release...</td>\n",
       "      <td>@USER But not half as stupid as Schiff looks ....</td>\n",
       "      <td>Jamie Raskin tanked Doug Collins . Collins loo...</td>\n",
       "    </tr>\n",
       "    <tr>\n",
       "      <th>4</th>\n",
       "      <td>SARCASM</td>\n",
       "      <td>@USER @USER Pretty Sure the Anti-Lincoln Crowd...</td>\n",
       "      <td>@USER They already did . Obama said many times...</td>\n",
       "      <td>Man ... y ’ all gone “ both sides ” the apocal...</td>\n",
       "    </tr>\n",
       "  </tbody>\n",
       "</table>\n",
       "</div>"
      ],
      "text/plain": [
       "     label                                           response  \\\n",
       "0  SARCASM  @USER @USER @USER I don't get this .. obviousl...   \n",
       "1  SARCASM  @USER @USER trying to protest about . Talking ...   \n",
       "2  SARCASM  @USER @USER @USER He makes an insane about of ...   \n",
       "3  SARCASM  @USER @USER Meanwhile Trump won't even release...   \n",
       "4  SARCASM  @USER @USER Pretty Sure the Anti-Lincoln Crowd...   \n",
       "\n",
       "                                           context/0  \\\n",
       "0  @USER If your child isn't named Barron ... #Be...   \n",
       "1  @USER @USER having to make up excuses of why y...   \n",
       "2  @USER I ’ ll remember to not support you at th...   \n",
       "3  @USER But not half as stupid as Schiff looks ....   \n",
       "4  @USER They already did . Obama said many times...   \n",
       "\n",
       "                                           context/1  \n",
       "0  A minor child deserves privacy and should be k...  \n",
       "1  @USER @USER Why is he a loser ? He's just a Pr...  \n",
       "2  Donald J . Trump is guilty as charged . The ev...  \n",
       "3  Jamie Raskin tanked Doug Collins . Collins loo...  \n",
       "4  Man ... y ’ all gone “ both sides ” the apocal...  "
      ]
     },
     "execution_count": 30,
     "metadata": {},
     "output_type": "execute_result"
    }
   ],
   "source": [
    "new_data.head()    #twitter_training data updated   \n",
    "\n",
    "#Read thread from right to left. CONTEXT1 - CONTEXT/0 - RESPONSE"
   ]
  }
 ],
 "metadata": {
  "kernelspec": {
   "display_name": "Python 3",
   "language": "python",
   "name": "python3"
  },
  "language_info": {
   "codemirror_mode": {
    "name": "ipython",
    "version": 3
   },
   "file_extension": ".py",
   "mimetype": "text/x-python",
   "name": "python",
   "nbconvert_exporter": "python",
   "pygments_lexer": "ipython3",
   "version": "3.8.3"
  }
 },
 "nbformat": 4,
 "nbformat_minor": 4
}
